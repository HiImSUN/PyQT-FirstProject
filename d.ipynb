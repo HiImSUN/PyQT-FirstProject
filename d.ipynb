{
 "cells": [
  {
   "cell_type": "code",
   "execution_count": null,
   "metadata": {},
   "outputs": [],
   "source": [
    "! pip install pyinstaller"
   ]
  },
  {
   "cell_type": "code",
   "execution_count": 2,
   "metadata": {},
   "outputs": [
    {
     "name": "stdout",
     "output_type": "stream",
     "text": [
      "415 INFO: PyInstaller: 6.1.0\n",
      "416 INFO: Python: 3.9.6\n",
      "429 INFO: Platform: macOS-13.2.1-x86_64-i386-64bit\n",
      "442 INFO: Extending PYTHONPATH with paths\n",
      "['/Users/seonhukim/workspace/DHproject']\n",
      "714 INFO: Appending 'datas' from .spec\n",
      "714 INFO: checking Analysis\n",
      "719 INFO: Building because _input_datas changed\n",
      "719 INFO: Initializing module dependency graph...\n",
      "719 INFO: Caching module graph hooks...\n",
      "734 INFO: Analyzing base_library.zip ...\n",
      "1570 INFO: Loading module hook 'hook-heapq.py' from '/Users/seonhukim/Library/Python/3.9/lib/python/site-packages/PyInstaller/hooks'...\n",
      "1653 INFO: Loading module hook 'hook-encodings.py' from '/Users/seonhukim/Library/Python/3.9/lib/python/site-packages/PyInstaller/hooks'...\n",
      "2942 INFO: Loading module hook 'hook-pickle.py' from '/Users/seonhukim/Library/Python/3.9/lib/python/site-packages/PyInstaller/hooks'...\n",
      "3867 INFO: Caching module dependency graph...\n",
      "3972 INFO: Running Analysis Analysis-00.toc\n",
      "3972 INFO: Looking for Python shared library...\n",
      "3977 INFO: Using Python shared library: /Library/Developer/CommandLineTools/Library/Frameworks/Python3.framework/Versions/3.9/Python3\n",
      "3977 INFO: Analyzing /Users/seonhukim/workspace/DHproject/main.py\n",
      "3984 INFO: Loading module hook 'hook-PyQt5.uic.py' from '/Users/seonhukim/Library/Python/3.9/lib/python/site-packages/PyInstaller/hooks'...\n",
      "4108 INFO: Loading module hook 'hook-PyQt5.py' from '/Users/seonhukim/Library/Python/3.9/lib/python/site-packages/PyInstaller/hooks'...\n",
      "4317 INFO: Processing pre-find module path hook PyQt5.uic.port_v2 from '/Users/seonhukim/Library/Python/3.9/lib/python/site-packages/PyInstaller/hooks/pre_find_module_path/hook-PyQt5.uic.port_v2.py'.\n",
      "4390 INFO: Loading module hook 'hook-xml.py' from '/Users/seonhukim/Library/Python/3.9/lib/python/site-packages/PyInstaller/hooks'...\n",
      "4408 INFO: Loading module hook 'hook-xml.etree.cElementTree.py' from '/Users/seonhukim/Library/Python/3.9/lib/python/site-packages/PyInstaller/hooks'...\n",
      "4450 INFO: Processing module hooks...\n",
      "4451 WARNING: Hidden import \"sip\" not found!\n",
      "4626 INFO: Loading module hook 'hook-PyQt5.QtGui.py' from '/Users/seonhukim/Library/Python/3.9/lib/python/site-packages/PyInstaller/hooks'...\n",
      "4718 INFO: Loading module hook 'hook-PyQt5.QtWidgets.py' from '/Users/seonhukim/Library/Python/3.9/lib/python/site-packages/PyInstaller/hooks'...\n",
      "5097 INFO: Loading module hook 'hook-PyQt5.QtCore.py' from '/Users/seonhukim/Library/Python/3.9/lib/python/site-packages/PyInstaller/hooks'...\n",
      "5303 INFO: Looking for ctypes DLLs\n",
      "5306 INFO: Analyzing run-time hooks ...\n",
      "5307 INFO: Including run-time hook '/Users/seonhukim/Library/Python/3.9/lib/python/site-packages/PyInstaller/hooks/rthooks/pyi_rth_pyqt5.py'\n",
      "5309 INFO: Including run-time hook '/Users/seonhukim/Library/Python/3.9/lib/python/site-packages/PyInstaller/hooks/rthooks/pyi_rth_pkgutil.py'\n",
      "5312 INFO: Including run-time hook '/Users/seonhukim/Library/Python/3.9/lib/python/site-packages/PyInstaller/hooks/rthooks/pyi_rth_inspect.py'\n",
      "5321 INFO: Looking for dynamic libraries\n",
      "5709 WARNING: Library not found: could not resolve '@rpath/QtVirtualKeyboard.framework/Versions/5/QtVirtualKeyboard', dependency of '/Users/seonhukim/Library/Python/3.9/lib/python/site-packages/PyQt5/Qt5/plugins/platforminputcontexts/libqtvirtualkeyboardplugin.dylib'.\n",
      "5709 WARNING: Library not found: could not resolve '@rpath/QtPdf.framework/Versions/5/QtPdf', dependency of '/Users/seonhukim/Library/Python/3.9/lib/python/site-packages/PyQt5/Qt5/plugins/imageformats/libqpdf.dylib'.\n",
      "5742 INFO: Warnings written to /Users/seonhukim/workspace/DHproject/build/main/warn-main.txt\n",
      "5756 INFO: Graph cross-reference written to /Users/seonhukim/workspace/DHproject/build/main/xref-main.html\n",
      "5766 INFO: checking PYZ\n",
      "5769 INFO: EXE target arch: x86_64\n",
      "5769 INFO: Code signing identity: None\n",
      "5772 INFO: checking PKG\n",
      "5775 INFO: Building because toc changed\n",
      "5775 INFO: Building PKG (CArchive) main.pkg\n",
      "5782 INFO: Building PKG (CArchive) main.pkg completed successfully.\n",
      "5783 INFO: Bootloader /Users/seonhukim/Library/Python/3.9/lib/python/site-packages/PyInstaller/bootloader/Darwin-64bit/run\n",
      "5783 INFO: checking EXE\n",
      "5786 INFO: Building because name changed\n",
      "5787 INFO: Building EXE from EXE-00.toc\n",
      "5787 INFO: Copying bootloader EXE to /Users/seonhukim/workspace/DHproject/build/main/main\n",
      "5788 INFO: Converting EXE to target arch (x86_64)\n",
      "5805 INFO: Removing signature(s) from EXE\n",
      "5822 INFO: Appending PKG archive to EXE\n",
      "5823 INFO: Fixing EXE headers for code signing\n",
      "5832 INFO: Re-signing the EXE\n",
      "5855 INFO: Building EXE from EXE-00.toc completed successfully.\n",
      "5859 INFO: checking COLLECT\n",
      "5864 INFO: Building COLLECT COLLECT-00.toc\n",
      "7052 INFO: Building COLLECT COLLECT-00.toc completed successfully.\n"
     ]
    }
   ],
   "source": [
    "! pyinstaller main.spec"
   ]
  },
  {
   "cell_type": "code",
   "execution_count": 17,
   "metadata": {},
   "outputs": [
    {
     "name": "stdout",
     "output_type": "stream",
     "text": [
      "235 INFO: PyInstaller: 6.1.0\n",
      "235 INFO: Python: 3.9.6\n",
      "246 INFO: Platform: macOS-13.2.1-x86_64-i386-64bit\n",
      "247 INFO: wrote /Users/seonhukim/workspace/DHproject/main.spec\n",
      "251 INFO: Extending PYTHONPATH with paths\n",
      "['/Users/seonhukim/workspace/DHproject']\n",
      "459 INFO: checking Analysis\n",
      "467 INFO: checking PYZ\n",
      "470 INFO: EXE target arch: x86_64\n",
      "470 INFO: Code signing identity: None\n",
      "479 INFO: checking PKG\n",
      "479 INFO: Building because toc changed\n",
      "479 INFO: Building PKG (CArchive) main.pkg\n",
      "7596 INFO: Building PKG (CArchive) main.pkg completed successfully.\n",
      "7602 INFO: Bootloader /Users/seonhukim/Library/Python/3.9/lib/python/site-packages/PyInstaller/bootloader/Darwin-64bit/run\n",
      "7602 INFO: checking EXE\n",
      "7602 INFO: Building because name changed\n",
      "7602 INFO: Building EXE from EXE-00.toc\n",
      "7602 INFO: Removing dir /Users/seonhukim/workspace/DHproject/dist/main\n",
      "7633 INFO: Copying bootloader EXE to /Users/seonhukim/workspace/DHproject/dist/main\n",
      "7634 INFO: Converting EXE to target arch (x86_64)\n",
      "7647 INFO: Removing signature(s) from EXE\n",
      "7661 INFO: Appending PKG archive to EXE\n",
      "7672 INFO: Fixing EXE headers for code signing\n",
      "7681 INFO: Re-signing the EXE\n",
      "7802 INFO: Building EXE from EXE-00.toc completed successfully.\n"
     ]
    }
   ],
   "source": [
    "! pyinstaller main.py --onefile -y\n"
   ]
  },
  {
   "cell_type": "code",
   "execution_count": null,
   "metadata": {},
   "outputs": [],
   "source": []
  }
 ],
 "metadata": {
  "kernelspec": {
   "display_name": "Python 3",
   "language": "python",
   "name": "python3"
  },
  "language_info": {
   "codemirror_mode": {
    "name": "ipython",
    "version": 3
   },
   "file_extension": ".py",
   "mimetype": "text/x-python",
   "name": "python",
   "nbconvert_exporter": "python",
   "pygments_lexer": "ipython3",
   "version": "3.9.6"
  }
 },
 "nbformat": 4,
 "nbformat_minor": 2
}
